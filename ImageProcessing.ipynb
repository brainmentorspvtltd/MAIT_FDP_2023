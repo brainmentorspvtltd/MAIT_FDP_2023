{
 "cells": [
  {
   "cell_type": "code",
   "execution_count": 2,
   "id": "89a6db74",
   "metadata": {},
   "outputs": [],
   "source": [
    "# !pip install opencv-python"
   ]
  },
  {
   "cell_type": "code",
   "execution_count": 3,
   "id": "5640d670",
   "metadata": {},
   "outputs": [],
   "source": [
    "import cv2"
   ]
  },
  {
   "cell_type": "code",
   "execution_count": 4,
   "id": "d29328f4",
   "metadata": {},
   "outputs": [],
   "source": [
    "img = cv2.imread(\"img.jpg\")"
   ]
  },
  {
   "cell_type": "code",
   "execution_count": 5,
   "id": "b526b7fd",
   "metadata": {},
   "outputs": [
    {
     "data": {
      "text/plain": [
       "numpy.ndarray"
      ]
     },
     "execution_count": 5,
     "metadata": {},
     "output_type": "execute_result"
    }
   ],
   "source": [
    "type(img)"
   ]
  },
  {
   "cell_type": "code",
   "execution_count": 6,
   "id": "670e5bc8",
   "metadata": {},
   "outputs": [
    {
     "data": {
      "text/plain": [
       "(379, 612, 3)"
      ]
     },
     "execution_count": 6,
     "metadata": {},
     "output_type": "execute_result"
    }
   ],
   "source": [
    "img.shape"
   ]
  },
  {
   "cell_type": "code",
   "execution_count": 7,
   "id": "df97f390",
   "metadata": {},
   "outputs": [
    {
     "data": {
      "text/plain": [
       "-1"
      ]
     },
     "execution_count": 7,
     "metadata": {},
     "output_type": "execute_result"
    }
   ],
   "source": [
    "cv2.imshow('result',img)\n",
    "# 0 - delay in milliseconds\n",
    "cv2.waitKey(0)"
   ]
  },
  {
   "cell_type": "code",
   "execution_count": 8,
   "id": "240267ea",
   "metadata": {},
   "outputs": [
    {
     "data": {
      "text/plain": [
       "array([[[ 45,  36,  27],\n",
       "        [ 45,  36,  27],\n",
       "        [ 45,  36,  27],\n",
       "        ...,\n",
       "        [192, 206, 205],\n",
       "        [192, 206, 205],\n",
       "        [192, 206, 205]],\n",
       "\n",
       "       [[ 46,  37,  28],\n",
       "        [ 46,  37,  28],\n",
       "        [ 46,  37,  28],\n",
       "        ...,\n",
       "        [193, 207, 206],\n",
       "        [193, 207, 206],\n",
       "        [193, 207, 206]],\n",
       "\n",
       "       [[ 46,  37,  28],\n",
       "        [ 46,  37,  28],\n",
       "        [ 46,  37,  28],\n",
       "        ...,\n",
       "        [193, 207, 206],\n",
       "        [193, 207, 206],\n",
       "        [193, 207, 206]],\n",
       "\n",
       "       ...,\n",
       "\n",
       "       [[190, 177, 161],\n",
       "        [190, 177, 161],\n",
       "        [190, 177, 161],\n",
       "        ...,\n",
       "        [223, 211, 199],\n",
       "        [223, 211, 199],\n",
       "        [223, 211, 199]],\n",
       "\n",
       "       [[190, 177, 161],\n",
       "        [190, 177, 161],\n",
       "        [190, 177, 161],\n",
       "        ...,\n",
       "        [223, 211, 199],\n",
       "        [223, 211, 199],\n",
       "        [223, 211, 199]],\n",
       "\n",
       "       [[190, 177, 161],\n",
       "        [190, 177, 161],\n",
       "        [190, 177, 161],\n",
       "        ...,\n",
       "        [223, 211, 199],\n",
       "        [223, 211, 199],\n",
       "        [223, 211, 199]]], dtype=uint8)"
      ]
     },
     "execution_count": 8,
     "metadata": {},
     "output_type": "execute_result"
    }
   ],
   "source": [
    "img"
   ]
  },
  {
   "cell_type": "code",
   "execution_count": 9,
   "id": "76a29b04",
   "metadata": {},
   "outputs": [],
   "source": [
    "grayImg = cv2.cvtColor(img, cv2.COLOR_BGR2GRAY)"
   ]
  },
  {
   "cell_type": "code",
   "execution_count": 10,
   "id": "c373e407",
   "metadata": {},
   "outputs": [
    {
     "data": {
      "text/plain": [
       "-1"
      ]
     },
     "execution_count": 10,
     "metadata": {},
     "output_type": "execute_result"
    }
   ],
   "source": [
    "cv2.imshow('result',grayImg)\n",
    "# 0 - delay in milliseconds\n",
    "cv2.waitKey(0)"
   ]
  },
  {
   "cell_type": "code",
   "execution_count": 11,
   "id": "cbe9b48c",
   "metadata": {},
   "outputs": [
    {
     "data": {
      "text/plain": [
       "(379, 612)"
      ]
     },
     "execution_count": 11,
     "metadata": {},
     "output_type": "execute_result"
    }
   ],
   "source": [
    "grayImg.shape"
   ]
  },
  {
   "cell_type": "code",
   "execution_count": 20,
   "id": "36b8d6c0",
   "metadata": {},
   "outputs": [
    {
     "data": {
      "text/plain": [
       "-1"
      ]
     },
     "execution_count": 20,
     "metadata": {},
     "output_type": "execute_result"
    }
   ],
   "source": [
    "blurImg = cv2.GaussianBlur(img, (5,5), 5, 5)\n",
    "cv2.imshow('result', blurImg)\n",
    "cv2.waitKey(0)"
   ]
  },
  {
   "cell_type": "code",
   "execution_count": 24,
   "id": "768ba3f2",
   "metadata": {},
   "outputs": [
    {
     "name": "stdout",
     "output_type": "stream",
     "text": [
      "Camera not detected...\n"
     ]
    }
   ],
   "source": [
    "# for camera\n",
    "# 0 - default camera\n",
    "# 1 - external camera\n",
    "cap = cv2.VideoCapture(0)\n",
    "# for video\n",
    "cap = cv2.VideoCapture('video_1.mp4')\n",
    "i = 0\n",
    "while True:\n",
    "    flag, frame = cap.read()\n",
    "    if flag:\n",
    "        cv2.imshow('camera', frame)\n",
    "        cv2.imwrite(\"images/img_{}.jpg\".format(i),frame)\n",
    "        # 27 - ASCII of escape\n",
    "        # if we press escape then camera will be closed\n",
    "        # 1 - delay in milliseconds\n",
    "        i += 1\n",
    "        if cv2.waitKey(1) == 27:\n",
    "            break\n",
    "    else:\n",
    "        print(\"Camera not detected...\")\n",
    "        break\n",
    "        \n",
    "cap.release()\n",
    "cv2.destroyAllWindows()"
   ]
  },
  {
   "cell_type": "code",
   "execution_count": 25,
   "id": "8725420e",
   "metadata": {},
   "outputs": [],
   "source": [
    "dataset = cv2.CascadeClassifier(\"face_data.xml\")"
   ]
  },
  {
   "cell_type": "code",
   "execution_count": 26,
   "id": "334db623",
   "metadata": {},
   "outputs": [
    {
     "data": {
      "text/plain": [
       "array([[287,  55,  76,  76]])"
      ]
     },
     "execution_count": 26,
     "metadata": {},
     "output_type": "execute_result"
    }
   ],
   "source": [
    "dataset.detectMultiScale(img)"
   ]
  },
  {
   "cell_type": "code",
   "execution_count": 28,
   "id": "75fbbea2",
   "metadata": {},
   "outputs": [
    {
     "data": {
      "text/plain": [
       "-1"
      ]
     },
     "execution_count": 28,
     "metadata": {},
     "output_type": "execute_result"
    }
   ],
   "source": [
    "img = cv2.imread('Avengers-Endgame-Film-Review.jpg')\n",
    "face = dataset.detectMultiScale(img)\n",
    "for x, y, w, h in face:\n",
    "    cv2.rectangle(img, (x, y), (x+w, y+h), (255,0,0), 5)\n",
    "cv2.imshow('res', img)\n",
    "cv2.waitKey(0)"
   ]
  },
  {
   "cell_type": "code",
   "execution_count": 29,
   "id": "1920c148",
   "metadata": {},
   "outputs": [],
   "source": [
    "# for camera\n",
    "# 0 - default camera\n",
    "# 1 - external camera\n",
    "cap = cv2.VideoCapture(1)\n",
    "# for video\n",
    "# cap = cv2.VideoCapture('video_1.mp4')\n",
    "i = 0\n",
    "while True:\n",
    "    flag, frame = cap.read()\n",
    "    if flag:\n",
    "        face = dataset.detectMultiScale(frame)\n",
    "        for x, y, w, h in face:\n",
    "            cv2.rectangle(frame, (x, y), (x+w, y+h), (255,0,0), 5)\n",
    "        cv2.imshow('camera', frame)\n",
    "        # 27 - ASCII of escape\n",
    "        # if we press escape then camera will be closed\n",
    "        # 1 - delay in milliseconds\n",
    "        i += 1\n",
    "        if cv2.waitKey(1) == 27:\n",
    "            break\n",
    "    else:\n",
    "        print(\"Camera not detected...\")\n",
    "        break\n",
    "        \n",
    "cap.release()\n",
    "cv2.destroyAllWindows()"
   ]
  },
  {
   "cell_type": "code",
   "execution_count": null,
   "id": "ee8e1087",
   "metadata": {},
   "outputs": [],
   "source": []
  }
 ],
 "metadata": {
  "kernelspec": {
   "display_name": "Python 3 (ipykernel)",
   "language": "python",
   "name": "python3"
  },
  "language_info": {
   "codemirror_mode": {
    "name": "ipython",
    "version": 3
   },
   "file_extension": ".py",
   "mimetype": "text/x-python",
   "name": "python",
   "nbconvert_exporter": "python",
   "pygments_lexer": "ipython3",
   "version": "3.9.13"
  }
 },
 "nbformat": 4,
 "nbformat_minor": 5
}
